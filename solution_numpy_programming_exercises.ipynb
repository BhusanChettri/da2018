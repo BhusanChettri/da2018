{
 "cells": [
  {
   "cell_type": "markdown",
   "metadata": {},
   "source": [
    "# Some basic programming exercises on numpy"
   ]
  },
  {
   "cell_type": "code",
   "execution_count": 216,
   "metadata": {
    "collapsed": true
   },
   "outputs": [],
   "source": [
    "import numpy as np"
   ]
  },
  {
   "cell_type": "markdown",
   "metadata": {},
   "source": [
    "#### 1. Create a vector 'int_vector' (1 dimensional array) filled with random 10 integer numbers"
   ]
  },
  {
   "cell_type": "code",
   "execution_count": 217,
   "metadata": {},
   "outputs": [
    {
     "name": "stdout",
     "output_type": "stream",
     "text": [
      "[40 49 49 34 23 15 15 25 32 23]\n"
     ]
    }
   ],
   "source": [
    "# code\n",
    "\n",
    "int_vector = np.random.randint(10,50,10)  # returns 10 random integers between 10 and 50\n",
    "print(int_vector)"
   ]
  },
  {
   "cell_type": "markdown",
   "metadata": {},
   "source": [
    "#### 2. Create a vector 'rand_vector' filled with random 10 numbers between 0 and 1"
   ]
  },
  {
   "cell_type": "code",
   "execution_count": 218,
   "metadata": {},
   "outputs": [
    {
     "name": "stdout",
     "output_type": "stream",
     "text": [
      "[ 0.47414359  0.86603897  0.82003187  0.21010613  0.69947845  0.44772293\n",
      "  0.57594929  0.03251073  0.05849033  0.96966096]\n"
     ]
    }
   ],
   "source": [
    "# code\n",
    "rand_vector = np.random.rand((10))\n",
    "print(rand_vector)"
   ]
  },
  {
   "cell_type": "markdown",
   "metadata": {},
   "source": [
    "#### 3. Find the smallest and largest element in int_vector you created in step 1. \n",
    " * Do this with and without using the numpy in-built function. Print the result\n",
    " "
   ]
  },
  {
   "cell_type": "code",
   "execution_count": 219,
   "metadata": {
    "collapsed": true
   },
   "outputs": [],
   "source": [
    "# code\n",
    "\n",
    "def max_min(data):\n",
    "    ''' \n",
    "    Find maximum and minimum element in a vector \n",
    "    Here we do not use any in-built function\n",
    "    '''\n",
    "    \n",
    "    large=small=data[0]   # take first element as reference\n",
    "    for i in range(1, len(data)):\n",
    "        if data[i] > large:\n",
    "            large=data[i]\n",
    "        if data[i] < small:\n",
    "            small=data[i]\n",
    "        \n",
    "    return large, small   \n",
    "    \n",
    "    \n",
    "def max_min2(data):\n",
    "    return np.max(data), np.min(data)"
   ]
  },
  {
   "cell_type": "code",
   "execution_count": 220,
   "metadata": {},
   "outputs": [
    {
     "data": {
      "text/plain": [
       "(49, 15)"
      ]
     },
     "execution_count": 220,
     "metadata": {},
     "output_type": "execute_result"
    }
   ],
   "source": [
    "# call max_min passing int_vector\n",
    "\n",
    "max_min(int_vector)"
   ]
  },
  {
   "cell_type": "code",
   "execution_count": 221,
   "metadata": {},
   "outputs": [
    {
     "data": {
      "text/plain": [
       "(49, 15)"
      ]
     },
     "execution_count": 221,
     "metadata": {},
     "output_type": "execute_result"
    }
   ],
   "source": [
    "max_min2(int_vector)"
   ]
  },
  {
   "cell_type": "markdown",
   "metadata": {},
   "source": [
    "#### 4. Create a vector 'vect1' with 9 elements equally spaced between 10 and 100  "
   ]
  },
  {
   "cell_type": "code",
   "execution_count": 222,
   "metadata": {},
   "outputs": [
    {
     "name": "stdout",
     "output_type": "stream",
     "text": [
      "[  10.     21.25   32.5    43.75   55.     66.25   77.5    88.75  100.  ]\n"
     ]
    }
   ],
   "source": [
    "# code\n",
    "\n",
    "vect1 = np.linspace(10,100,9)\n",
    "print(vect1)"
   ]
  },
  {
   "cell_type": "markdown",
   "metadata": {
    "collapsed": true
   },
   "source": [
    "#### 5. Create a 4x4 matrix 'mat1' that has 1 in its diagonal entry and 0 else where."
   ]
  },
  {
   "cell_type": "code",
   "execution_count": 223,
   "metadata": {},
   "outputs": [
    {
     "name": "stdout",
     "output_type": "stream",
     "text": [
      "[[1 0 0 0]\n",
      " [0 1 0 0]\n",
      " [0 0 1 0]\n",
      " [0 0 0 1]]\n"
     ]
    }
   ],
   "source": [
    "mat1 = np.diag((1,1,1,1))   # we specify diagonal elements to be integers 1's\n",
    "print(mat1)"
   ]
  },
  {
   "cell_type": "code",
   "execution_count": 224,
   "metadata": {},
   "outputs": [
    {
     "name": "stdout",
     "output_type": "stream",
     "text": [
      "[[ 1.  0.  0.  0.]\n",
      " [ 0.  1.  0.  0.]\n",
      " [ 0.  0.  1.  0.]\n",
      " [ 0.  0.  0.  1.]]\n"
     ]
    }
   ],
   "source": [
    "# Alternatively, we could also do it this way\n",
    "mat1a = np.eye(4)\n",
    "print(mat1a)         # but note the difference. Here default data type for elements of numpy array is float"
   ]
  },
  {
   "cell_type": "markdown",
   "metadata": {
    "collapsed": true
   },
   "source": [
    "#### 6. Create a 5x5 matrix 'mat2' that is populated with random numbers between 0 and 1"
   ]
  },
  {
   "cell_type": "code",
   "execution_count": 225,
   "metadata": {},
   "outputs": [
    {
     "name": "stdout",
     "output_type": "stream",
     "text": [
      "[[ 0.48103197  0.22182563  0.74546855  0.93083756  0.32842686]\n",
      " [ 0.89460818  0.57990108  0.4483588   0.61617846  0.98186547]\n",
      " [ 0.60220148  0.7610408   0.81480776  0.53502852  0.95026389]\n",
      " [ 0.42587319  0.19827935  0.01188177  0.101885    0.35728372]\n",
      " [ 0.06889465  0.0827122   0.13790144  0.12581059  0.62833723]]\n"
     ]
    }
   ],
   "source": [
    "mat2 = np.random.rand(5,5)\n",
    "print(mat2)"
   ]
  },
  {
   "cell_type": "markdown",
   "metadata": {},
   "source": [
    "#### 7. Save the contents of 'mat2' to a csv file called 'mat2.csv'. \n",
    " * Make sure you preserve 6 values after the decimal point.\n",
    " * Next read the contents of the csv file 'mat2.csv' and print its contents on screen"
   ]
  },
  {
   "cell_type": "code",
   "execution_count": 226,
   "metadata": {
    "collapsed": true
   },
   "outputs": [],
   "source": [
    "# save with 6 point precision \n",
    "\n",
    "np.savetxt('mat2.csv', mat2, delimiter=',', fmt='%.6f')"
   ]
  },
  {
   "cell_type": "code",
   "execution_count": 227,
   "metadata": {
    "collapsed": true
   },
   "outputs": [],
   "source": [
    "# read the contents of csv into mat2_data \n",
    "\n",
    "mat2_data = np.genfromtxt('mat2.csv', delimiter=',')"
   ]
  },
  {
   "cell_type": "code",
   "execution_count": 228,
   "metadata": {},
   "outputs": [
    {
     "name": "stdout",
     "output_type": "stream",
     "text": [
      "[[ 0.481032  0.221826  0.745469  0.930838  0.328427]\n",
      " [ 0.894608  0.579901  0.448359  0.616178  0.981865]\n",
      " [ 0.602201  0.761041  0.814808  0.535029  0.950264]\n",
      " [ 0.425873  0.198279  0.011882  0.101885  0.357284]\n",
      " [ 0.068895  0.082712  0.137901  0.125811  0.628337]]\n"
     ]
    }
   ],
   "source": [
    "# print the contents. Each item has only 6 values after the decimal point\n",
    "\n",
    "print(mat2_data)"
   ]
  },
  {
   "cell_type": "markdown",
   "metadata": {},
   "source": [
    "#### 8. Define a function 'operation' that takes three input arguments: data1, data2 and operationType\n",
    " * Data1 and data2 can be a scalar, vector or matrix.\n",
    " * operationType is a string variable that takes one of the following 4 values and performs element-wise operation for\n",
    "   * add, subtract, multiply, divide\n",
    " * The function must return the result of the operation to the caller\n",
    "   \n"
   ]
  },
  {
   "cell_type": "code",
   "execution_count": 229,
   "metadata": {
    "collapsed": true
   },
   "outputs": [],
   "source": [
    "def operation(data1,data2,operationType):\n",
    "    \n",
    "    if operationType == 'add':\n",
    "        result = data1 + data2\n",
    "    elif operationType == 'subtract':\n",
    "        result = data1 - data2\n",
    "    elif operationType == 'multiply':\n",
    "        result = data1 * data2\n",
    "    elif operationType == 'divide':\n",
    "        result == data1 / data2\n",
    "    return result\n",
    "        "
   ]
  },
  {
   "cell_type": "markdown",
   "metadata": {},
   "source": [
    "#### 9. Test the function 'operation' for different operations (say, add, multiply) on following inputs \n",
    " * a)  A 4 element random vector 'rand_v' and the matrix mat1 that was created earlier. Function call will be: operation(rand_v, mat1, 'add') and operation(rand_v, mat1, 'multiply').\n",
    " * b) When you call the function as: operation(mat1, mat2, 'add'), where mat1 and mat2 are matrices created earlier. What output do you get ? \n",
    " \n",
    " Observe the results obtained. Illustration of broadcasting. "
   ]
  },
  {
   "cell_type": "code",
   "execution_count": 230,
   "metadata": {},
   "outputs": [
    {
     "name": "stdout",
     "output_type": "stream",
     "text": [
      "[23 10 10 47]\n",
      "[[1 0 0 0]\n",
      " [0 1 0 0]\n",
      " [0 0 1 0]\n",
      " [0 0 0 1]]\n",
      "[[24 10 10 47]\n",
      " [23 11 10 47]\n",
      " [23 10 11 47]\n",
      " [23 10 10 48]]\n"
     ]
    }
   ],
   "source": [
    "# code for a)\n",
    "\n",
    "# testing add\n",
    "rand_v = np.random.randint(1,50,4)   # get me 4 random integers between 1 and 50\n",
    "result = operation(rand_v, mat1, 'add')\n",
    "\n",
    "print(rand_v)\n",
    "print(mat1)\n",
    "\n",
    "print(result)    # 1d vector is broadcasted to match dimension of the 4x4 matrix before performing computation !"
   ]
  },
  {
   "cell_type": "code",
   "execution_count": 231,
   "metadata": {},
   "outputs": [
    {
     "name": "stdout",
     "output_type": "stream",
     "text": [
      "[[23  0  0  0]\n",
      " [ 0 10  0  0]\n",
      " [ 0  0 10  0]\n",
      " [ 0  0  0 47]]\n"
     ]
    }
   ],
   "source": [
    "# testing for multiplication\n",
    "\n",
    "result1 = operation(rand_v, mat1, 'multiply')\n",
    "print(result1)"
   ]
  },
  {
   "cell_type": "code",
   "execution_count": 232,
   "metadata": {},
   "outputs": [],
   "source": [
    "# code for b)\n",
    "\n",
    "#result2 = operation(mat1, mat2, 'add')\n",
    "\n",
    "# This would not be possible. \n",
    "# It wil throw error message as Broadcasting is simply not possible here. We cannot create 5x5 replicating copies of \n",
    "# 4x4 matrix."
   ]
  },
  {
   "cell_type": "markdown",
   "metadata": {},
   "source": [
    "#### 10. Create a numpy vector comprising of 25 elements randomly drawn from a standard normal distribution. \n",
    " * Next, convert this to a two dimensional 5 x 5 matrix called 'mat5x5' and print the matrix. \n"
   ]
  },
  {
   "cell_type": "code",
   "execution_count": 233,
   "metadata": {},
   "outputs": [
    {
     "name": "stdout",
     "output_type": "stream",
     "text": [
      "[[ 0.812077   -0.18963545 -1.25980741 -0.33343571 -0.42082913]\n",
      " [-0.60640854  2.0612364   1.5505929  -0.74859293 -0.34109574]\n",
      " [ 0.03698599  0.36081071  0.94343503  1.25633304  0.20267221]\n",
      " [-0.08813358  0.19700717  0.42355587 -0.95282093 -0.31280008]\n",
      " [-0.23649389 -0.31821087 -1.14750364  0.73017084 -1.25845445]]\n"
     ]
    }
   ],
   "source": [
    "mat5x5 =np.random.standard_normal(25).reshape(5,5)\n",
    "print(mat5x5)"
   ]
  },
  {
   "cell_type": "code",
   "execution_count": 234,
   "metadata": {},
   "outputs": [
    {
     "name": "stdout",
     "output_type": "stream",
     "text": [
      "(5, 5)\n"
     ]
    }
   ],
   "source": [
    "print(mat5x5.shape)"
   ]
  },
  {
   "cell_type": "markdown",
   "metadata": {},
   "source": [
    "#### 11. Save the three matrices mat1, mat2 and mat5x5 as a compressed numpy binary file 'compressed_matrix'\n",
    " * Next also read the file 'compressed_matrix' to access individual matrix and print them.\n",
    " "
   ]
  },
  {
   "cell_type": "code",
   "execution_count": 235,
   "metadata": {
    "collapsed": true
   },
   "outputs": [],
   "source": [
    "# save matrices in compressed form\n",
    "\n",
    "np.savez('compressed_matrix', mat1=mat1, mat2=mat2, mat5x5=mat5x5)"
   ]
  },
  {
   "cell_type": "code",
   "execution_count": 236,
   "metadata": {},
   "outputs": [
    {
     "name": "stdout",
     "output_type": "stream",
     "text": [
      "['mat1', 'mat2', 'mat5x5']\n"
     ]
    }
   ],
   "source": [
    "# read and print the compressed matrix\n",
    "\n",
    "the_compressed_data = np.load('compressed_matrix.npz')\n",
    "\n",
    "print(the_compressed_data.files)    # to view the file names in zipped data"
   ]
  },
  {
   "cell_type": "code",
   "execution_count": 237,
   "metadata": {},
   "outputs": [
    {
     "name": "stdout",
     "output_type": "stream",
     "text": [
      "[[ 0.812077   -0.18963545 -1.25980741 -0.33343571 -0.42082913]\n",
      " [-0.60640854  2.0612364   1.5505929  -0.74859293 -0.34109574]\n",
      " [ 0.03698599  0.36081071  0.94343503  1.25633304  0.20267221]\n",
      " [-0.08813358  0.19700717  0.42355587 -0.95282093 -0.31280008]\n",
      " [-0.23649389 -0.31821087 -1.14750364  0.73017084 -1.25845445]]\n"
     ]
    }
   ],
   "source": [
    "# For example, lets just access the last file and print it \n",
    "print(the_compressed_data['mat5x5'])"
   ]
  },
  {
   "cell_type": "code",
   "execution_count": 238,
   "metadata": {},
   "outputs": [
    {
     "name": "stdout",
     "output_type": "stream",
     "text": [
      "[[1 0 0 0]\n",
      " [0 1 0 0]\n",
      " [0 0 1 0]\n",
      " [0 0 0 1]]\n",
      "[[ 0.48103197  0.22182563  0.74546855  0.93083756  0.32842686]\n",
      " [ 0.89460818  0.57990108  0.4483588   0.61617846  0.98186547]\n",
      " [ 0.60220148  0.7610408   0.81480776  0.53502852  0.95026389]\n",
      " [ 0.42587319  0.19827935  0.01188177  0.101885    0.35728372]\n",
      " [ 0.06889465  0.0827122   0.13790144  0.12581059  0.62833723]]\n",
      "[[ 0.812077   -0.18963545 -1.25980741 -0.33343571 -0.42082913]\n",
      " [-0.60640854  2.0612364   1.5505929  -0.74859293 -0.34109574]\n",
      " [ 0.03698599  0.36081071  0.94343503  1.25633304  0.20267221]\n",
      " [-0.08813358  0.19700717  0.42355587 -0.95282093 -0.31280008]\n",
      " [-0.23649389 -0.31821087 -1.14750364  0.73017084 -1.25845445]]\n"
     ]
    }
   ],
   "source": [
    "for file in the_compressed_data.files:    # You can print all the files in this way.\n",
    "    print(the_compressed_data[file])      # not a good idea if your files are large"
   ]
  },
  {
   "cell_type": "markdown",
   "metadata": {},
   "source": [
    "#### 11. Compute the following statistics for the matrix mat5x5\n",
    " * a) Global mean and mean across each dimension\n",
    " * b) Global variance and variance across each dimension\n",
    " "
   ]
  },
  {
   "cell_type": "code",
   "execution_count": 239,
   "metadata": {},
   "outputs": [
    {
     "name": "stdout",
     "output_type": "stream",
     "text": [
      "Global mean :  0.0144261920404\n",
      "Mean across each dimension\n",
      "  [-0.0163946   0.42224159  0.10205455 -0.00966914 -0.42610144]\n"
     ]
    }
   ],
   "source": [
    "# code for a)\n",
    "global_mean = np.mean(mat5x5)\n",
    "print('Global mean : ', global_mean)\n",
    "\n",
    "dimension_mean = np.mean(mat5x5, axis=0)\n",
    "print('Mean across each dimension\\n ', dimension_mean)\n"
   ]
  },
  {
   "cell_type": "code",
   "execution_count": 240,
   "metadata": {},
   "outputs": [
    {
     "name": "stdout",
     "output_type": "stream",
     "text": [
      "Global variance :  0.709067694435\n",
      "Variance across each dimension\n",
      "  [ 0.21818426  0.73269433  1.26512225  0.73809864  0.22165176]\n"
     ]
    }
   ],
   "source": [
    "# code for b)\n",
    "\n",
    "global_var = np.var(mat5x5)\n",
    "print('Global variance : ', global_var)\n",
    "\n",
    "dimension_var = np.var(mat5x5, axis=0)\n",
    "print('Variance across each dimension\\n ', dimension_var)"
   ]
  },
  {
   "cell_type": "markdown",
   "metadata": {},
   "source": [
    "#### 12. Matrix multiplication \n",
    "\n",
    "In order to multiply two matrices, A and B, the number of columns in A must equal the number of rows in B. Thus, if A is an m x n matrix and B is an r x s matrix, n = r.\n",
    "\n",
    " * Given A = 3x3 and B = 3x4 matrices both filled with random numbers. \n",
    " * Write a function 'matrix_multiply' that takes A and B as input and perform multiplication without using numpy in-built function 'dot'. Print the result.\n",
    " * Test whether your matrix multiplication code worked correctly by comparing the output you get using the inbuilt np.dot() function.\n",
    " \n",
    "#### Hint: \n",
    "You will need to use two for loops. First loop controls the row dimension and the innermost control how many items need to be traversed in each row. \n"
   ]
  },
  {
   "cell_type": "code",
   "execution_count": 241,
   "metadata": {},
   "outputs": [
    {
     "name": "stdout",
     "output_type": "stream",
     "text": [
      "(3, 3)\n",
      "(3, 4)\n"
     ]
    }
   ],
   "source": [
    "# Code for the function\n",
    "\n",
    "A = np.random.randint(1,100,9).reshape(3,3)     # lets take 9 random integer numbers from 1-100 \n",
    "print(A.shape)\n",
    "\n",
    "B = np.random.randint(1,100,12).reshape(3,4)    # 12 random integers and reshape into 3x4 matrix\n",
    "print(B.shape)"
   ]
  },
  {
   "cell_type": "code",
   "execution_count": 242,
   "metadata": {},
   "outputs": [
    {
     "name": "stdout",
     "output_type": "stream",
     "text": [
      "Matrix A contents \n",
      "\n",
      " [[64 87 42]\n",
      " [ 2 31 99]\n",
      " [ 6 63 97]]\n"
     ]
    }
   ],
   "source": [
    "# Lets print the contents of matrix A\n",
    "\n",
    "print('Matrix A contents \\n\\n', A)"
   ]
  },
  {
   "cell_type": "code",
   "execution_count": 243,
   "metadata": {},
   "outputs": [
    {
     "name": "stdout",
     "output_type": "stream",
     "text": [
      "Matrix B contents \n",
      "\n",
      " [[61 59 55 33]\n",
      " [70 91 25 69]\n",
      " [97 94 71 67]]\n"
     ]
    }
   ],
   "source": [
    "# Lets print the contents of matrix B\n",
    "\n",
    "print('Matrix B contents \\n\\n', B)"
   ]
  },
  {
   "cell_type": "code",
   "execution_count": 244,
   "metadata": {
    "collapsed": true
   },
   "outputs": [],
   "source": [
    "def matrix_multiply(A,B):\n",
    "    '''Performs multiplication of two matrices A and B and returns the product '''\n",
    "    \n",
    "    r1,c1 = A.shape    # get the rows and columns of matrix A\n",
    "    r2,c2 = B.shape    # get the rows and columns of matrix B                          \n",
    "    \n",
    "    C = np.zeros((r1,c2))  # The shape of final matrix is (r1,c2)\n",
    "    \n",
    "    if c1 != r2 :\n",
    "        print('The columns of matrix A do not match with rows of B. Multiplication not possible !!')\n",
    "        return\n",
    "    else:\n",
    "        for i in range(0, r1):      # The result matrix rows = r1\n",
    "            for j in range(0, c2):  # columns = c2\n",
    "                \n",
    "                for k in range(0, r2):        # loop along each elements in column j             \n",
    "                    C[i,j] += A[i,k] * B[k,j]\n",
    "                    \n",
    "        return C"
   ]
  },
  {
   "cell_type": "code",
   "execution_count": 245,
   "metadata": {},
   "outputs": [
    {
     "name": "stdout",
     "output_type": "stream",
     "text": [
      "[[ 14068.  15641.   8677.  10929.]\n",
      " [ 11895.  12245.   7914.   8838.]\n",
      " [ 14185.  15205.   8792.  11044.]]\n"
     ]
    }
   ],
   "source": [
    "# Call the function passing the two matrices A and B\n",
    "\n",
    "prod = matrix_multiply(A,B)\n",
    "print(prod)"
   ]
  },
  {
   "cell_type": "code",
   "execution_count": 246,
   "metadata": {},
   "outputs": [
    {
     "name": "stdout",
     "output_type": "stream",
     "text": [
      "[[14068 15641  8677 10929]\n",
      " [11895 12245  7914  8838]\n",
      " [14185 15205  8792 11044]]\n"
     ]
    }
   ],
   "source": [
    "# check whether your code worked properly or not using np.dot() function\n",
    "\n",
    "prod1 = np.dot(A,B)\n",
    "print(prod1)"
   ]
  },
  {
   "cell_type": "markdown",
   "metadata": {},
   "source": [
    "### Seems that the function is working fine !!"
   ]
  }
 ],
 "metadata": {
  "kernelspec": {
   "display_name": "Python 3",
   "language": "python",
   "name": "python3"
  },
  "language_info": {
   "codemirror_mode": {
    "name": "ipython",
    "version": 3
   },
   "file_extension": ".py",
   "mimetype": "text/x-python",
   "name": "python",
   "nbconvert_exporter": "python",
   "pygments_lexer": "ipython3",
   "version": "3.6.1"
  }
 },
 "nbformat": 4,
 "nbformat_minor": 2
}
