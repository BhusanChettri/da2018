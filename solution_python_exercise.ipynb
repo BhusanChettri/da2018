{
 "cells": [
  {
   "cell_type": "markdown",
   "metadata": {},
   "source": [
    "# Solution to Python programming exercise\n",
    "\n",
    "There might be different alternative to solve a given problem. This is one way of doing it."
   ]
  },
  {
   "cell_type": "markdown",
   "metadata": {},
   "source": [
    "     1. Create a list ‘data’ comprising of N (say 10) numbers (integers and floating point numbers). Display\n",
    "        all the elements of the list created."
   ]
  },
  {
   "cell_type": "code",
   "execution_count": 130,
   "metadata": {},
   "outputs": [
    {
     "name": "stdout",
     "output_type": "stream",
     "text": [
      "[10, 20, 31.8, 1, 4, 5.5, 34, 17, 76, 9]\n"
     ]
    }
   ],
   "source": [
    "data = [10,20,31.8,1,4,5.5,34,17,76,9]\n",
    "print(data)                              # In python 2.7 just write print data"
   ]
  },
  {
   "cell_type": "markdown",
   "metadata": {},
   "source": [
    "    2. Loop demonstration: Compute sum and mean of the elements in the ‘data’ list without using any inbuilt\n",
    "       function. (use looping mechanism, Eg. for loop)"
   ]
  },
  {
   "cell_type": "code",
   "execution_count": 131,
   "metadata": {},
   "outputs": [
    {
     "name": "stdout",
     "output_type": "stream",
     "text": [
      "Sum = 208 and mean =20.83\n"
     ]
    }
   ],
   "source": [
    "sum_list =0             # It is a good practise to name variable according to its usage\n",
    "avg_list =0             # Avoids confusion and helps remember the purpose of a variable\n",
    "\n",
    "for item in data:\n",
    "    sum_list += item\n",
    "    \n",
    "avg_list = sum_list/len(data)     # Question says not to use sum and mean function available in python\n",
    "print('Sum = %d and mean =%.2f' %(sum_list, avg_list))    # We specify the output format to be printed !"
   ]
  },
  {
   "cell_type": "markdown",
   "metadata": {},
   "source": [
    "     3. Implement step 2 by defining your own function for computing sum of all elements in the list and\n",
    "    mean of the list. [In doubt refer to lecture 2 related to functions]"
   ]
  },
  {
   "cell_type": "code",
   "execution_count": 132,
   "metadata": {
    "collapsed": true
   },
   "outputs": [],
   "source": [
    "def sum_and_average(data_list):\n",
    "    '''\n",
    "    Computes sum and average of the number in the data_list and returns it to the caller.\n",
    "    '''\n",
    "    \n",
    "    sum_list=0    \n",
    "    avg_list=0\n",
    "    for item in data_list:\n",
    "        sum_list += item\n",
    "    avg_list = sum_list/len(data_list)\n",
    "    \n",
    "    return sum_list, avg_list         # This returns multiple parameters       "
   ]
  },
  {
   "cell_type": "code",
   "execution_count": 133,
   "metadata": {},
   "outputs": [
    {
     "name": "stdout",
     "output_type": "stream",
     "text": [
      "Sum = 208.3 and average = 20.830000000000002\n"
     ]
    }
   ],
   "source": [
    "# We call it passing a list of data items. \n",
    "# Lets pass the 'data' list we created in program 1.\n",
    "\n",
    "ssum,avg = sum_and_average(data)\n",
    "print('Sum = ' + str(ssum) + ' and average = ' + str(avg))    # See the second approach of printing !"
   ]
  },
  {
   "cell_type": "markdown",
   "metadata": {},
   "source": [
    "    4. Reverse all the elements in the list ‘data’ without using the reverse function. Hint: use list slicing\n",
    "    and loop."
   ]
  },
  {
   "cell_type": "code",
   "execution_count": 134,
   "metadata": {},
   "outputs": [
    {
     "name": "stdout",
     "output_type": "stream",
     "text": [
      "The list data contains following elements \n",
      "\n",
      "[10, 20, 31.8, 1, 4, 5.5, 34, 17, 76, 9]\n"
     ]
    }
   ],
   "source": [
    "# Lets first print the contents of 'data'\n",
    "print('The list data contains following elements \\n')   # The character '\\n' causes control to goto a new line\n",
    "print(data)"
   ]
  },
  {
   "cell_type": "code",
   "execution_count": 135,
   "metadata": {},
   "outputs": [
    {
     "name": "stdout",
     "output_type": "stream",
     "text": [
      "[9, 76, 17, 34, 5.5, 4, 1, 31.8, 20, 10]\n"
     ]
    }
   ],
   "source": [
    "# Approach 1: \n",
    "\n",
    "reversed_data = []     # We create an empty list\n",
    "\n",
    "for i in range(1,len(data)+1):     # loop runs for i = 1  to n times\n",
    "    reversed_data.append(data[-i])       \n",
    "    \n",
    "print(reversed_data)"
   ]
  },
  {
   "cell_type": "code",
   "execution_count": 136,
   "metadata": {},
   "outputs": [
    {
     "name": "stdout",
     "output_type": "stream",
     "text": [
      "[9, 76, 17, 34, 5.5, 4, 1, 31.8, 20, 10]\n"
     ]
    }
   ],
   "source": [
    "# Approach 2\n",
    "\n",
    "reversed_data2 = data[::-1]    # Pythonic way to reverse a list\n",
    "print(reversed_data2)"
   ]
  },
  {
   "cell_type": "markdown",
   "metadata": {},
   "source": [
    "     5. Create a new list ‘data2’ with N elements of mixed data types (such as integer, floating points,\n",
    "    strings). Create a new list ‘data3’ by appending ‘data2’ list to ‘data’. Further, create another list\n",
    "    ‘data4’ by extending ‘data’ list with ‘data2’. Print the new list and observe the differences"
   ]
  },
  {
   "cell_type": "code",
   "execution_count": 137,
   "metadata": {},
   "outputs": [
    {
     "name": "stdout",
     "output_type": "stream",
     "text": [
      "[[10, 20, 31.8, 1, 4, 5.5, 34, 17, 76, 9], [23, 'hello', 5.5, 'qmul', 12]]\n",
      "2\n",
      "[10, 20, 31.8, 1, 4, 5.5, 34, 17, 76, 9]\n"
     ]
    }
   ],
   "source": [
    "# appending data2 to data\n",
    "\n",
    "datax=[]\n",
    "datax.append(data)\n",
    "datax.append(data2)            # now append data2 list \n",
    "\n",
    "print(datax)                   # prints the new list appending data2  \n",
    "print(len(datax))              # Will print 2, as it will have two items, where each item is a list itself \n",
    "\n",
    "# Lets print the original data list too.\n",
    "print(data)                    # it will print the content of list data"
   ]
  },
  {
   "cell_type": "code",
   "execution_count": 138,
   "metadata": {},
   "outputs": [
    {
     "name": "stdout",
     "output_type": "stream",
     "text": [
      "[10, 20, 31.8, 1, 4, 5.5, 34, 17, 76, 9, 23, 'hello', 5.5, 'qmul', 12]\n",
      "15\n",
      "[10, 20, 31.8, 1, 4, 5.5, 34, 17, 76, 9]\n"
     ]
    }
   ],
   "source": [
    "# extending a list with another list of data\n",
    "\n",
    "data_y=[]                \n",
    "data_y.extend(data)      # get all elements of data list first\n",
    "data_y.extend(data2)     # now get all elements of data2 list by extending the existing list\n",
    "\n",
    "print(data_y)            # prints the new list whose length will be = len(data) + len(data2)\n",
    "print(len(data_y))\n",
    "\n",
    "# Lets print the original data list too.\n",
    "\n",
    "print(data)                    # it will print the content of list data"
   ]
  },
  {
   "cell_type": "markdown",
   "metadata": {},
   "source": [
    "    6. Given a list: scores = [40, 70.9,89,58,90,76,68,82,91,20]. Find a new list which will have elements\n",
    "       greater than 70 only. Use list comprehension."
   ]
  },
  {
   "cell_type": "code",
   "execution_count": 139,
   "metadata": {},
   "outputs": [
    {
     "name": "stdout",
     "output_type": "stream",
     "text": [
      "[70.9, 89, 90, 76, 82, 91]\n"
     ]
    }
   ],
   "source": [
    "scores = [40, 70.9,89,58,90,76,68,82,91,20]\n",
    "new_scores = [score for score in scores if score > 70]\n",
    "print(new_scores)"
   ]
  },
  {
   "cell_type": "markdown",
   "metadata": {},
   "source": [
    "     7. Create a new list ‘data4’ with 10 integer numbers. Find all the even and odd numbers and put them\n",
    "        in two separate list: even_list which will have all even numbers and odd_list that will have all odd\n",
    "        numbers of the list ‘data4’. Use list comprehension."
   ]
  },
  {
   "cell_type": "code",
   "execution_count": 140,
   "metadata": {},
   "outputs": [
    {
     "name": "stdout",
     "output_type": "stream",
     "text": [
      "10\n",
      "[2, 5, 8, 7, 12, 15, 4, 19, 33, 1]\n",
      "[2, 8, 12, 4]\n",
      "[5, 7, 15, 19, 33, 1]\n"
     ]
    }
   ],
   "source": [
    "data4 = [2,5,8,7,12,15,4,19,33,1]\n",
    "\n",
    "print(len(data4))\n",
    "print(data4)\n",
    "\n",
    "even_list = [x for x in data4 if x%2 == 0]\n",
    "odd_list = [x for x in data4 if x%2 != 0]\n",
    "\n",
    "print(even_list)\n",
    "print(odd_list)"
   ]
  },
  {
   "cell_type": "markdown",
   "metadata": {},
   "source": [
    "     8. Given two list: names=[‘a’, ‘b’, ‘c’, ‘d’, ‘e’, ‘f’, ‘g’] and marks = [90, 80,92,50,49,69,76]. The list\n",
    "        ‘marks’ hold the respective marks of students in ‘names’ list. From the information provided, create\n",
    "        dictionaries to hold records for i) only those names who got distinction (say above 70) ii) and all\n",
    "        other records should be stored in another dictionary. Display the contents of two dictionaries using\n",
    "        for loop."
   ]
  },
  {
   "cell_type": "code",
   "execution_count": 141,
   "metadata": {},
   "outputs": [
    {
     "name": "stdout",
     "output_type": "stream",
     "text": [
      "['a', 'b', 'c', 'd', 'e', 'f', 'g']\n",
      "[90, 80, 92, 50, 49, 69, 76]\n"
     ]
    }
   ],
   "source": [
    "names= ['a', 'b', 'c', 'd', 'e', 'f','g']\n",
    "marks = [90, 80,92,50,49,69,76]\n",
    "\n",
    "print(names)\n",
    "print(marks)"
   ]
  },
  {
   "cell_type": "code",
   "execution_count": 142,
   "metadata": {},
   "outputs": [
    {
     "name": "stdout",
     "output_type": "stream",
     "text": [
      "{'a': 90, 'b': 80, 'c': 92, 'g': 76}\n",
      "{'d': 50, 'e': 49, 'f': 69}\n"
     ]
    }
   ],
   "source": [
    "# Hold record of only those names with marks > 70\n",
    "\n",
    "filtered_records = {names[i] : marks[i] for i in range(len(names)) if marks[i]>=70}\n",
    "other_records = {names[i] : marks[i] for i in range(len(names)) if marks[i]<70}\n",
    "\n",
    "print(filtered_records)\n",
    "print(other_records)"
   ]
  },
  {
   "cell_type": "code",
   "execution_count": 143,
   "metadata": {},
   "outputs": [
    {
     "name": "stdout",
     "output_type": "stream",
     "text": [
      "a : 90\n",
      "b : 80\n",
      "c : 92\n",
      "g : 76\n"
     ]
    }
   ],
   "source": [
    "# Printing filtered records using for loop\n",
    "\n",
    "for name in filtered_records:\n",
    "    print(name + ' : ' + str(filtered_records[name]) )\n",
    "        "
   ]
  },
  {
   "cell_type": "code",
   "execution_count": 144,
   "metadata": {},
   "outputs": [
    {
     "name": "stdout",
     "output_type": "stream",
     "text": [
      "d : 50\n",
      "e : 49\n",
      "f : 69\n"
     ]
    }
   ],
   "source": [
    "# Printing other records using for loop\n",
    "\n",
    "for name in other_records:\n",
    "    print(name + ' : ' + str(other_records[name]) )\n",
    "        "
   ]
  },
  {
   "cell_type": "code",
   "execution_count": null,
   "metadata": {
    "collapsed": true
   },
   "outputs": [],
   "source": []
  }
 ],
 "metadata": {
  "kernelspec": {
   "display_name": "Python 3",
   "language": "python",
   "name": "python3"
  },
  "language_info": {
   "codemirror_mode": {
    "name": "ipython",
    "version": 3
   },
   "file_extension": ".py",
   "mimetype": "text/x-python",
   "name": "python",
   "nbconvert_exporter": "python",
   "pygments_lexer": "ipython3",
   "version": "3.6.1"
  }
 },
 "nbformat": 4,
 "nbformat_minor": 2
}
